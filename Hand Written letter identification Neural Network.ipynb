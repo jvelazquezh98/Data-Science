{
 "cells": [
  {
   "cell_type": "markdown",
   "metadata": {},
   "source": [
    "# Transformación de datos"
   ]
  },
  {
   "cell_type": "code",
   "execution_count": 31,
   "metadata": {},
   "outputs": [],
   "source": [
    "import pandas as pd\n",
    "import numpy as np\n",
    "from sklearn.model_selection import train_test_split\n",
    "from sklearn import preprocessing\n",
    "import tensorflow as tf\n",
    "import matplotlib.pyplot as plt\n",
    "\n",
    "# Modeling\n",
    "import keras\n",
    "from keras import Input\n",
    "from keras.layers import Dense\n",
    "from sklearn.neural_network import MLPClassifier\n",
    "from keras.models import Sequential, Model, load_model\n",
    "from sklearn.model_selection import RandomizedSearchCV, GridSearchCV"
   ]
  },
  {
   "cell_type": "code",
   "execution_count": 32,
   "metadata": {},
   "outputs": [
    {
     "name": "stdout",
     "output_type": "stream",
     "text": [
      "letter    W\n",
      "Name: 0, dtype: object\n"
     ]
    },
    {
     "data": {
      "image/png": "[encoded data removed]",
      "text/plain": [
       "<Figure size 432x288 with 1 Axes>"
      ]
     },
     "metadata": {
      "needs_background": "light"
     },
     "output_type": "display_data"
    }
   ],
   "source": [
    "#Carga de información y verificación\n",
    "\n",
    "df = pd.read_csv('letters.csv')\n",
    "\n",
    "df.drop('Unnamed: 0',axis=1,inplace=True)\n",
    "vard = [i for i in df.columns if i != 'letter']\n",
    "\n",
    "pic = np.array(df.iloc[0,:-1]).reshape(28,28).astype(int)\n",
    "\n",
    "plt.imshow(pic, cmap=plt.cm.binary)\n",
    "print(df.iloc[0,-1:])"
   ]
  },
  {
   "cell_type": "code",
   "execution_count": 33,
   "metadata": {},
   "outputs": [],
   "source": [
    "#Dividir dataframe\n",
    "X = df.loc[:,df.columns != 'letter']\n",
    "y = df.loc[:,df.columns == 'letter']\n",
    "\n",
    "#Normalizar datos\n",
    "X = tf.keras.utils.normalize(X,axis=1)"
   ]
  },
  {
   "cell_type": "code",
   "execution_count": 34,
   "metadata": {
    "scrolled": true
   },
   "outputs": [
    {
     "name": "stdout",
     "output_type": "stream",
     "text": [
      "Numero de variables eliminadas : 36\n"
     ]
    }
   ],
   "source": [
    "#Eliminar variables unarias\n",
    "eliminadas = []\n",
    "vard = [i for i in X.columns if i != 'letter']\n",
    "for v in vard:\n",
    "    if len(X[v].unique())==1:\n",
    "        eliminadas.append(v)\n",
    "        X.drop(v,axis=1,inplace=True)\n",
    "        \n",
    "vard = [i for i in X.columns if i != 'letter']\n",
    "\n",
    "print(f'Numero de variables eliminadas : {len(eliminadas)}')"
   ]
  },
  {
   "cell_type": "code",
   "execution_count": 35,
   "metadata": {},
   "outputs": [
    {
     "name": "stderr",
     "output_type": "stream",
     "text": [
      "C:\\Users\\joker\\Anaconda3\\lib\\site-packages\\sklearn\\utils\\validation.py:63: DataConversionWarning: A column-vector y was passed when a 1d array was expected. Please change the shape of y to (n_samples, ), for example using ravel().\n",
      "  return f(*args, **kwargs)\n"
     ]
    }
   ],
   "source": [
    "le = preprocessing.LabelEncoder()\n",
    "le.fit_transform(y_train)\n",
    "\n",
    "y=le.transform(y)\n",
    "\n",
    "y=tf.keras.utils.to_categorical(\n",
    "    y, num_classes=None, dtype='float32')"
   ]
  },
  {
   "cell_type": "code",
   "execution_count": 38,
   "metadata": {},
   "outputs": [],
   "source": [
    "x_train,x_test,y_train,y_test = train_test_split(X,y,test_size=0.25, random_state=0)\n",
    "\n",
    "x_train = np.array(x_train.values)\n",
    "x_test = np.array(x_test.values)\n",
    "# y_train = np.array(y_train.values)\n",
    "# y_test = np.array(y_test.values)"
   ]
  },
  {
   "cell_type": "code",
   "execution_count": 40,
   "metadata": {},
   "outputs": [
    {
     "data": {
      "text/plain": [
       "(748,)"
      ]
     },
     "execution_count": 40,
     "metadata": {},
     "output_type": "execute_result"
    }
   ],
   "source": [
    "x_train[0].shape"
   ]
  },
  {
   "cell_type": "markdown",
   "metadata": {},
   "source": [
    "## Red Neuronal"
   ]
  },
  {
   "cell_type": "code",
   "execution_count": 41,
   "metadata": {},
   "outputs": [],
   "source": [
    "#Creacion de red neuronalforward feed.\n",
    "model = Sequential()\n",
    "\n",
    "#Input layer\n",
    "model.add(Input(shape=(x_train.shape[1],)))\n",
    "\n",
    "#Hidden layers\n",
    "model.add(Dense(128, activation=\"relu\"))\n",
    "model.add(Dense(128, activation=\"relu\"))\n",
    "\n",
    "#Output layer\n",
    "model.add(Dense(26, activation=\"softmax\"))"
   ]
  },
  {
   "cell_type": "code",
   "execution_count": 42,
   "metadata": {},
   "outputs": [
    {
     "name": "stdout",
     "output_type": "stream",
     "text": [
      "Model: \"sequential_2\"\n",
      "_________________________________________________________________\n",
      "Layer (type)                 Output Shape              Param #   \n",
      "=================================================================\n",
      "dense_3 (Dense)              (None, 128)               95872     \n",
      "_________________________________________________________________\n",
      "dense_4 (Dense)              (None, 128)               16512     \n",
      "_________________________________________________________________\n",
      "dense_5 (Dense)              (None, 26)                3354      \n",
      "=================================================================\n",
      "Total params: 115,738\n",
      "Trainable params: 115,738\n",
      "Non-trainable params: 0\n",
      "_________________________________________________________________\n"
     ]
    }
   ],
   "source": [
    "model.summary()"
   ]
  },
  {
   "cell_type": "markdown",
   "metadata": {},
   "source": [
    "## Configuración del modelo"
   ]
  },
  {
   "cell_type": "code",
   "execution_count": 43,
   "metadata": {},
   "outputs": [],
   "source": [
    "model.compile(optimizer='adam', \n",
    "              loss='categorical_crossentropy', \n",
    "              metrics=['accuracy'])"
   ]
  },
  {
   "cell_type": "markdown",
   "metadata": {},
   "source": [
    "## Entrenamiento del modelo"
   ]
  },
  {
   "cell_type": "code",
   "execution_count": 45,
   "metadata": {},
   "outputs": [
    {
     "name": "stdout",
     "output_type": "stream",
     "text": [
      "Epoch 1/10\n",
      "9360/9360 [==============================] - 18s 2ms/step - loss: 0.2255 - accuracy: 0.9229 - val_loss: 0.3188 - val_accuracy: 0.9014\n",
      "Epoch 2/10\n",
      "9360/9360 [==============================] - 18s 2ms/step - loss: 0.2086 - accuracy: 0.9278 - val_loss: 0.3398 - val_accuracy: 0.8975\n",
      "Epoch 3/10\n",
      "9360/9360 [==============================] - 17s 2ms/step - loss: 0.1952 - accuracy: 0.9316 - val_loss: 0.3425 - val_accuracy: 0.8991\n",
      "Epoch 4/10\n",
      "9360/9360 [==============================] - 17s 2ms/step - loss: 0.1853 - accuracy: 0.9348 - val_loss: 0.3227 - val_accuracy: 0.9057\n",
      "Epoch 5/10\n",
      "9360/9360 [==============================] - 18s 2ms/step - loss: 0.1722 - accuracy: 0.9383 - val_loss: 0.3418 - val_accuracy: 0.9019\n",
      "Epoch 6/10\n",
      "9360/9360 [==============================] - 18s 2ms/step - loss: 0.1657 - accuracy: 0.9396 - val_loss: 0.3473 - val_accuracy: 0.9010\n",
      "Epoch 7/10\n",
      "9360/9360 [==============================] - 17s 2ms/step - loss: 0.1559 - accuracy: 0.9433 - val_loss: 0.3622 - val_accuracy: 0.9009\n",
      "Epoch 8/10\n",
      "9360/9360 [==============================] - 17s 2ms/step - loss: 0.1484 - accuracy: 0.9449 - val_loss: 0.3676 - val_accuracy: 0.9030\n",
      "Epoch 9/10\n",
      "9360/9360 [==============================] - 18s 2ms/step - loss: 0.1429 - accuracy: 0.9468 - val_loss: 0.3933 - val_accuracy: 0.8978\n",
      "Epoch 10/10\n",
      "9360/9360 [==============================] - 19s 2ms/step - loss: 0.1374 - accuracy: 0.9487 - val_loss: 0.3832 - val_accuracy: 0.9060\n"
     ]
    },
    {
     "data": {
      "text/plain": [
       "<tensorflow.python.keras.callbacks.History at 0x240cf3cf388>"
      ]
     },
     "execution_count": 45,
     "metadata": {},
     "output_type": "execute_result"
    }
   ],
   "source": [
    "model.fit(x = x_train, y=y_train, \n",
    "          epochs = 10, \n",
    "          batch_size = 10, \n",
    "          validation_data=(x_test, y_test))"
   ]
  },
  {
   "cell_type": "markdown",
   "metadata": {},
   "source": [
    "### Se logró un accuracy en el conjunto de validacion de .9060 demostrando que la red realmente logró generalizar lo visto en el conjunto de entrenamiento"
   ]
  }
 ],
 "metadata": {
  "kernelspec": {
   "display_name": "Python 3",
   "language": "python",
   "name": "python3"
  },
  "language_info": {
   "codemirror_mode": {
    "name": "ipython",
    "version": 3
   },
   "file_extension": ".py",
   "mimetype": "text/x-python",
   "name": "python",
   "nbconvert_exporter": "python",
   "pygments_lexer": "ipython3",
   "version": "3.7.4"
  }
 },
 "nbformat": 4,
 "nbformat_minor": 2
}
